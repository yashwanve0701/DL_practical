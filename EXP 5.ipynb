{
 "cells": [
  {
   "cell_type": "code",
   "execution_count": 1,
   "metadata": {},
   "outputs": [],
   "source": [
    "def Psat(self, T):\n",
    "    pop= self.getPborder(T)\n",
    "    boolean=int(pop[0])\n",
    "\n",
    "    P1=pop[1]\n",
    "    P2=pop[2] \n",
    "    if boolean:\n",
    "        Pmin = float(min([P1, P2])) \n",
    "        Pmax = float(max([P1, P2]))\n",
    "        Tr=T/self.typeMolecule.Tc\n",
    "        w=0.5*(1+scipy.tanh((10**5)*(Tr-0.6)))\n",
    "        fi1=0.5*(1-scipy.tanh(8*((Tr**0.4)-1)))\n",
    "        fi2=0.460*scipy.sqrt(1-(Tr-0.566)**2/(0.434**2)+0.494)\n",
    "\n",
    "        guess = Pmin+(Pmax-Pmin)*((1-w**2)*fi1+(w**2)*fi2)  \n",
    "        solution = scipy.optimize.newton(funcPsat,guess, args=(T,self))"
   ]
  },
  {
   "cell_type": "code",
   "execution_count": 2,
   "metadata": {},
   "outputs": [
    {
     "ename": "ModuleNotFoundError",
     "evalue": "No module named 'keras'",
     "output_type": "error",
     "traceback": [
      "\u001b[1;31m---------------------------------------------------------------------------\u001b[0m",
      "\u001b[1;31mModuleNotFoundError\u001b[0m                       Traceback (most recent call last)",
      "\u001b[1;32mc:\\Users\\LENOVO\\Downloads\\Deep Learning Codes\\Deep Learning Codes\\EXP 5.ipynb Cell 2\u001b[0m line \u001b[0;36m2\n\u001b[0;32m      <a href='vscode-notebook-cell:/c%3A/Users/LENOVO/Downloads/Deep%20Learning%20Codes/Deep%20Learning%20Codes/EXP%205.ipynb#W1sZmlsZQ%3D%3D?line=0'>1</a>\u001b[0m \u001b[39mimport\u001b[39;00m \u001b[39mnumpy\u001b[39;00m \u001b[39mas\u001b[39;00m \u001b[39mnp\u001b[39;00m\n\u001b[1;32m----> <a href='vscode-notebook-cell:/c%3A/Users/LENOVO/Downloads/Deep%20Learning%20Codes/Deep%20Learning%20Codes/EXP%205.ipynb#W1sZmlsZQ%3D%3D?line=1'>2</a>\u001b[0m \u001b[39mfrom\u001b[39;00m \u001b[39mkeras\u001b[39;00m\u001b[39m.\u001b[39;00m\u001b[39mmodels\u001b[39;00m \u001b[39mimport\u001b[39;00m Sequential\n\u001b[0;32m      <a href='vscode-notebook-cell:/c%3A/Users/LENOVO/Downloads/Deep%20Learning%20Codes/Deep%20Learning%20Codes/EXP%205.ipynb#W1sZmlsZQ%3D%3D?line=2'>3</a>\u001b[0m \u001b[39mfrom\u001b[39;00m \u001b[39mkeras\u001b[39;00m\u001b[39m.\u001b[39;00m\u001b[39mlayers\u001b[39;00m \u001b[39mimport\u001b[39;00m Dense, Embedding, Lambda\n\u001b[0;32m      <a href='vscode-notebook-cell:/c%3A/Users/LENOVO/Downloads/Deep%20Learning%20Codes/Deep%20Learning%20Codes/EXP%205.ipynb#W1sZmlsZQ%3D%3D?line=3'>4</a>\u001b[0m \u001b[39mfrom\u001b[39;00m \u001b[39mkeras\u001b[39;00m\u001b[39m.\u001b[39;00m\u001b[39mpreprocessing\u001b[39;00m \u001b[39mimport\u001b[39;00m sequence\n",
      "\u001b[1;31mModuleNotFoundError\u001b[0m: No module named 'keras'"
     ]
    }
   ],
   "source": [
    "import numpy as np\n",
    "from keras.models import Sequential\n",
    "from keras.layers import Dense, Embedding, Lambda\n",
    "from keras.preprocessing import sequence\n",
    "from keras.preprocessing.text import Tokenizer\n",
    "import scipy.optimize\n",
    "import keras.backend as K\n",
    "from keras.utils import np_utils\n"
   ]
  },
  {
   "cell_type": "code",
   "execution_count": 22,
   "metadata": {},
   "outputs": [],
   "source": [
    "data = open('corona.txt', 'r')\n",
    "corona_data = [text for text in data if text.count(' ') >= 2]\n",
    "vectorize = Tokenizer()\n",
    "vectorize.fit_on_texts(corona_data)\n",
    "corona_data = vectorize.texts_to_sequences(corona_data)\n",
    "total_vocab = len(vectorize.word_index) + 1\n",
    "total_length = window_size * 2"
   ]
  },
  {
   "cell_type": "code",
   "execution_count": 23,
   "metadata": {},
   "outputs": [],
   "source": [
    "def cbow_model(data, window_size, total_vocab):\n",
    "    context_word = []\n",
    "    target = []\n",
    "\n",
    "    for text in data:\n",
    "        text_len = len(text)\n",
    "        for idx, word in enumerate(text):\n",
    "            begin = idx - window_size\n",
    "            end = idx + window_size + 1\n",
    "            if begin >= 0 and end <= text_len:\n",
    "                context_word.append([text[i] for i in range(begin, end) if i != idx])\n",
    "                target.append(word)\n",
    "\n",
    "    contextual = sequence.pad_sequences(context_word, maxlen=total_length)\n",
    "    final_target = np_utils.to_categorical(target, total_vocab)\n",
    "\n",
    "    yield (contextual, final_target)\n"
   ]
  },
  {
   "cell_type": "code",
   "execution_count": 24,
   "metadata": {},
   "outputs": [],
   "source": [
    "model = Sequential()\n",
    "model.add(Embedding(input_dim=total_vocab, output_dim=100, input_length=total_length))\n",
    "model.add(Lambda(lambda x: K.mean(x, axis=1), output_shape=(100,)))\n",
    "model.add(Dense(total_vocab, activation='softmax'))\n",
    "model.compile(loss='categorical_crossentropy', optimizer='adam')"
   ]
  },
  {
   "cell_type": "code",
   "execution_count": 25,
   "metadata": {},
   "outputs": [
    {
     "ename": "NameError",
     "evalue": "name 'np_utils' is not defined",
     "output_type": "error",
     "traceback": [
      "\u001b[1;31m---------------------------------------------------------------------------\u001b[0m",
      "\u001b[1;31mNameError\u001b[0m                                 Traceback (most recent call last)",
      "\u001b[1;32mc:\\Users\\Varun Shitole\\Desktop\\Deep Learning Codes\\EXP 5.ipynb Cell 6\u001b[0m line \u001b[0;36m3\n\u001b[0;32m      <a href='vscode-notebook-cell:/c%3A/Users/Varun%20Shitole/Desktop/Deep%20Learning%20Codes/EXP%205.ipynb#W5sZmlsZQ%3D%3D?line=0'>1</a>\u001b[0m \u001b[39mfor\u001b[39;00m i \u001b[39min\u001b[39;00m \u001b[39mrange\u001b[39m(\u001b[39m10\u001b[39m):\n\u001b[0;32m      <a href='vscode-notebook-cell:/c%3A/Users/Varun%20Shitole/Desktop/Deep%20Learning%20Codes/EXP%205.ipynb#W5sZmlsZQ%3D%3D?line=1'>2</a>\u001b[0m     cost \u001b[39m=\u001b[39m \u001b[39m0\u001b[39m\n\u001b[1;32m----> <a href='vscode-notebook-cell:/c%3A/Users/Varun%20Shitole/Desktop/Deep%20Learning%20Codes/EXP%205.ipynb#W5sZmlsZQ%3D%3D?line=2'>3</a>\u001b[0m     \u001b[39mfor\u001b[39;00m contextual, final_target \u001b[39min\u001b[39;00m cbow_model(corona_data, window_size, total_vocab):\n\u001b[0;32m      <a href='vscode-notebook-cell:/c%3A/Users/Varun%20Shitole/Desktop/Deep%20Learning%20Codes/EXP%205.ipynb#W5sZmlsZQ%3D%3D?line=3'>4</a>\u001b[0m         cost \u001b[39m+\u001b[39m\u001b[39m=\u001b[39m model\u001b[39m.\u001b[39mtrain_on_batch(contextual, final_target)\n\u001b[0;32m      <a href='vscode-notebook-cell:/c%3A/Users/Varun%20Shitole/Desktop/Deep%20Learning%20Codes/EXP%205.ipynb#W5sZmlsZQ%3D%3D?line=4'>5</a>\u001b[0m     \u001b[39mprint\u001b[39m(i, cost)\n",
      "\u001b[1;32mc:\\Users\\Varun Shitole\\Desktop\\Deep Learning Codes\\EXP 5.ipynb Cell 6\u001b[0m line \u001b[0;36m1\n\u001b[0;32m     <a href='vscode-notebook-cell:/c%3A/Users/Varun%20Shitole/Desktop/Deep%20Learning%20Codes/EXP%205.ipynb#W5sZmlsZQ%3D%3D?line=11'>12</a>\u001b[0m             target\u001b[39m.\u001b[39mappend(word)\n\u001b[0;32m     <a href='vscode-notebook-cell:/c%3A/Users/Varun%20Shitole/Desktop/Deep%20Learning%20Codes/EXP%205.ipynb#W5sZmlsZQ%3D%3D?line=13'>14</a>\u001b[0m contextual \u001b[39m=\u001b[39m sequence\u001b[39m.\u001b[39mpad_sequences(context_word, maxlen\u001b[39m=\u001b[39mtotal_length)\n\u001b[1;32m---> <a href='vscode-notebook-cell:/c%3A/Users/Varun%20Shitole/Desktop/Deep%20Learning%20Codes/EXP%205.ipynb#W5sZmlsZQ%3D%3D?line=14'>15</a>\u001b[0m final_target \u001b[39m=\u001b[39m np_utils\u001b[39m.\u001b[39mto_categorical(target, total_vocab)\n\u001b[0;32m     <a href='vscode-notebook-cell:/c%3A/Users/Varun%20Shitole/Desktop/Deep%20Learning%20Codes/EXP%205.ipynb#W5sZmlsZQ%3D%3D?line=16'>17</a>\u001b[0m \u001b[39myield\u001b[39;00m (contextual, final_target)\n",
      "\u001b[1;31mNameError\u001b[0m: name 'np_utils' is not defined"
     ]
    }
   ],
   "source": [
    "for i in range(10):\n",
    "    cost = 0\n",
    "    for contextual, final_target in cbow_model(corona_data, window_size, total_vocab):\n",
    "        cost += model.train_on_batch(contextual, final_target)\n",
    "    print(i, cost)"
   ]
  },
  {
   "cell_type": "code",
   "execution_count": 26,
   "metadata": {},
   "outputs": [
    {
     "ename": "SyntaxError",
     "evalue": "incomplete input (1877884850.py, line 3)",
     "output_type": "error",
     "traceback": [
      "\u001b[1;36m  Cell \u001b[1;32mIn[26], line 3\u001b[1;36m\u001b[0m\n\u001b[1;33m    vect_file.write('{} {}\\n'.format(total_vocab, dimensions)\u001b[0m\n\u001b[1;37m                                                             ^\u001b[0m\n\u001b[1;31mSyntaxError\u001b[0m\u001b[1;31m:\u001b[0m incomplete input\n"
     ]
    }
   ],
   "source": [
    "dimensions = 100\n",
    "vect_file = open('vectors.txt', 'w')\n",
    "vect_file.write('{} {}\\n'.format(total_vocab, dimensions))"
   ]
  },
  {
   "cell_type": "code",
   "execution_count": 27,
   "metadata": {},
   "outputs": [
    {
     "ename": "NameError",
     "evalue": "name 'vect_file' is not defined",
     "output_type": "error",
     "traceback": [
      "\u001b[1;31m---------------------------------------------------------------------------\u001b[0m",
      "\u001b[1;31mNameError\u001b[0m                                 Traceback (most recent call last)",
      "\u001b[1;32mc:\\Users\\Varun Shitole\\Desktop\\Deep Learning Codes\\EXP 5.ipynb Cell 8\u001b[0m line \u001b[0;36m4\n\u001b[0;32m      <a href='vscode-notebook-cell:/c%3A/Users/Varun%20Shitole/Desktop/Deep%20Learning%20Codes/EXP%205.ipynb#X10sZmlsZQ%3D%3D?line=1'>2</a>\u001b[0m \u001b[39mfor\u001b[39;00m text, i \u001b[39min\u001b[39;00m vectorize\u001b[39m.\u001b[39mword_index\u001b[39m.\u001b[39mitems():\n\u001b[0;32m      <a href='vscode-notebook-cell:/c%3A/Users/Varun%20Shitole/Desktop/Deep%20Learning%20Codes/EXP%205.ipynb#X10sZmlsZQ%3D%3D?line=2'>3</a>\u001b[0m     final_vec \u001b[39m=\u001b[39m \u001b[39m'\u001b[39m\u001b[39m \u001b[39m\u001b[39m'\u001b[39m\u001b[39m.\u001b[39mjoin(\u001b[39mmap\u001b[39m(\u001b[39mstr\u001b[39m, \u001b[39mlist\u001b[39m(weights[i, :])))\n\u001b[1;32m----> <a href='vscode-notebook-cell:/c%3A/Users/Varun%20Shitole/Desktop/Deep%20Learning%20Codes/EXP%205.ipynb#X10sZmlsZQ%3D%3D?line=3'>4</a>\u001b[0m     vect_file\u001b[39m.\u001b[39mwrite(\u001b[39m'\u001b[39m\u001b[39m{}\u001b[39;00m\u001b[39m \u001b[39m\u001b[39m{}\u001b[39;00m\u001b[39m\\n\u001b[39;00m\u001b[39m'\u001b[39m\u001b[39m.\u001b[39mformat(text, final_vec))\n\u001b[0;32m      <a href='vscode-notebook-cell:/c%3A/Users/Varun%20Shitole/Desktop/Deep%20Learning%20Codes/EXP%205.ipynb#X10sZmlsZQ%3D%3D?line=5'>6</a>\u001b[0m vect_file\u001b[39m.\u001b[39mclose()\n",
      "\u001b[1;31mNameError\u001b[0m: name 'vect_file' is not defined"
     ]
    }
   ],
   "source": [
    "weights = model.get_weights()[0]\n",
    "for text, i in vectorize.word_index.items():\n",
    "    final_vec = ' '.join(map(str, list(weights[i, :])))\n",
    "    vect_file.write('{} {}\\n'.format(text, final_vec))\n",
    "\n",
    "vect_file.close()"
   ]
  }
 ],
 "metadata": {
  "kernelspec": {
   "display_name": "Python 3",
   "language": "python",
   "name": "python3"
  },
  "language_info": {
   "codemirror_mode": {
    "name": "ipython",
    "version": 3
   },
   "file_extension": ".py",
   "mimetype": "text/x-python",
   "name": "python",
   "nbconvert_exporter": "python",
   "pygments_lexer": "ipython3",
   "version": "3.9.5"
  }
 },
 "nbformat": 4,
 "nbformat_minor": 2
}
